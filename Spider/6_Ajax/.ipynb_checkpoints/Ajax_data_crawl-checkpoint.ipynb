{
 "cells": [
  {
   "cell_type": "markdown",
   "metadata": {},
   "source": [
    "# AJAX Data Crawl"
   ]
  },
  {
   "cell_type": "markdown",
   "metadata": {},
   "source": [
    "## 1.What is Ajax"
   ]
  },
  {
   "cell_type": "markdown",
   "metadata": {},
   "source": [
    "- AJAX = *Asynchronous JavaScript and XML*(异步的JS和XML)\n",
    "- AJAX 不是新的编程语言，而是一种使用现有标准的新方法。\n",
    "- AJAX 最大的优点是在不重新加载整个页面的情况下，可以与服务器交换数据并更新部分网页内容。\n",
    "- AJAX 不需要任何浏览器插件，但需要用户允许JavaScript在浏览器上执行。"
   ]
  },
  {
   "cell_type": "markdown",
   "metadata": {},
   "source": [
    "## 2.基本原理"
   ]
  },
  {
   "cell_type": "markdown",
   "metadata": {
    "heading_collapsed": true
   },
   "source": [
    "### × 发送请求"
   ]
  },
  {
   "cell_type": "markdown",
   "metadata": {
    "hidden": true
   },
   "source": [
    "```js\n",
    "//js的Ajax底层实现\n",
    "var xmlhttp;\n",
    "if(window.XMLHttpRequest){\n",
    "    // Chrome, Firefox, Opera, Safari\n",
    "    xmlhttp = new XMLHttpRequest();\n",
    "}\n",
    "xmlhttp.onreadystatechange = function(){\n",
    "    if(xmlhttp.readyState==4 && xmlhttp.status==200){\n",
    "        document.getElementById(\"divxx\").innerHTML=xmlhttp.responseText;\n",
    "    }\n",
    "}\n",
    "xmlhttp.open(\"POST\", \"/ajax/\", true);\n",
    "xmlhttp.send();\n",
    "```"
   ]
  },
  {
   "cell_type": "markdown",
   "metadata": {
    "hidden": true
   },
   "source": [
    "　　上面的代码实际上是新建了XMLHttpRequest对象，然后监听属性，然后调用open()和send()向服务器发送请求。由于设置了监听，服务器在返回响应时，onreadystatechange对应的方法便会被触发，并在这个方法里解析响应内容。"
   ]
  },
  {
   "cell_type": "markdown",
   "metadata": {
    "heading_collapsed": true
   },
   "source": [
    "### × 解析内容"
   ]
  },
  {
   "cell_type": "markdown",
   "metadata": {
    "hidden": true
   },
   "source": [
    "　　得到响应后，onreadystatechange属性对应的方法便会被触发，利用xmlhttp的responseText属性便可取到其内容。类似Python中requests请求和响应的过程。"
   ]
  },
  {
   "cell_type": "markdown",
   "metadata": {
    "heading_collapsed": true
   },
   "source": [
    "### × 渲染网页"
   ]
  },
  {
   "cell_type": "markdown",
   "metadata": {
    "hidden": true
   },
   "source": [
    "　　js解析完响应内容后，就对其进行进一步处理。以上步骤包括请求、解析、渲染都是通过js完成。"
   ]
  },
  {
   "cell_type": "markdown",
   "metadata": {},
   "source": [
    "## 3.实战"
   ]
  },
  {
   "cell_type": "code",
   "execution_count": 4,
   "metadata": {},
   "outputs": [],
   "source": [
    "# 取得XHR请求的url\n",
    "from urllib.parse import urlencode\n",
    "import requests\n",
    "base_url = 'https://movie.douban.com/j/chart/top_list?'\n",
    "\n",
    "headers = {\n",
    "    'User-Agent': 'Chrome/66.0.3359.170',\n",
    "    'X-Requested-With': 'XMLHttpRequest',\n",
    "}\n",
    "\n",
    "# 获得一页的json内容\n",
    "def get_page(page):\n",
    "    params = {\n",
    "        'type': 11,\n",
    "        'interval_id': '100:90',\n",
    "        'start': page*20,\n",
    "        'limit': 20\n",
    "    }\n",
    "    url = base_url + urlencode(params)\n",
    "    try:\n",
    "        response = requests.get(url,headers=headers)\n",
    "        if response.status_code == 200:\n",
    "            return response.json()\n",
    "    except requests.ConnectionError as e:\n",
    "        print(\"Error\", e.args)"
   ]
  },
  {
   "cell_type": "code",
   "execution_count": 6,
   "metadata": {},
   "outputs": [
    {
     "name": "stdout",
     "output_type": "stream",
     "text": [
      "Success\n",
      "{'rating': ['9.6', '50'], 'rank': 1, 'cover_url': 'https://img3.doubanio.com/view/photo/s_ratio_poster/public/p480747492.jpg', 'is_playable': True, 'id': '1292052', 'types': ['犯罪', '剧情'], 'regions': ['美国'], 'title': '肖申克的救赎', 'url': 'https://movie.douban.com/subject/1292052/', 'release_date': '1994-09-10', 'actor_count': 25, 'vote_count': 1333244, 'score': '9.6', 'actors': ['蒂姆·罗宾斯', '摩根·弗里曼', '鲍勃·冈顿', '威廉姆·赛德勒', '克兰西·布朗', '吉尔·贝罗斯', '马克·罗斯顿', '詹姆斯·惠特摩', '杰弗里·德曼', '拉里·布兰登伯格', '尼尔·吉恩托利', '布赖恩·利比', '大卫·普罗瓦尔', '约瑟夫·劳格诺', '祖德·塞克利拉', '保罗·麦克兰尼', '芮妮·布莱恩', '阿方索·弗里曼', 'V·J·福斯特', '弗兰克·梅德拉诺', '马克·迈尔斯', '尼尔·萨默斯', '耐德·巴拉米', '布赖恩·戴拉特', '唐·麦克马纳斯'], 'is_watched': False}\n"
     ]
    }
   ],
   "source": [
    "# 解析网页\n",
    "def parse_page(json):\n",
    "    if json:\n",
    "        item1 = json[0]\n",
    "        print(item1)      \n",
    "        \n",
    "\n",
    "page1_data = get_page(0)\n",
    "parse_page(page1_data)"
   ]
  }
 ],
 "metadata": {
  "kernelspec": {
   "display_name": "Python 3",
   "language": "python",
   "name": "python3"
  },
  "language_info": {
   "codemirror_mode": {
    "name": "ipython",
    "version": 3
   },
   "file_extension": ".py",
   "mimetype": "text/x-python",
   "name": "python",
   "nbconvert_exporter": "python",
   "pygments_lexer": "ipython3",
   "version": "3.6.4"
  }
 },
 "nbformat": 4,
 "nbformat_minor": 2
}
