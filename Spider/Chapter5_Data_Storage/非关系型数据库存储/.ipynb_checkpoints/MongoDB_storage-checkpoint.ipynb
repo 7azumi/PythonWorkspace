{
 "cells": [
  {
   "cell_type": "markdown",
   "metadata": {},
   "source": [
    "# **MongoDB** 存储"
   ]
  },
  {
   "cell_type": "markdown",
   "metadata": {
    "heading_collapsed": true
   },
   "source": [
    "## 1.连接MongoDB，并指定数据库、集合"
   ]
  },
  {
   "cell_type": "code",
   "execution_count": 10,
   "metadata": {
    "hidden": true
   },
   "outputs": [],
   "source": [
    "import pymongo\n",
    "client = pymongo.MongoClient('localhost',27017)\n",
    "db = client['test']\n",
    "students = db['students']"
   ]
  },
  {
   "cell_type": "markdown",
   "metadata": {
    "heading_collapsed": true
   },
   "source": [
    "## 2.插入数据"
   ]
  },
  {
   "cell_type": "code",
   "execution_count": 11,
   "metadata": {
    "hidden": true
   },
   "outputs": [
    {
     "data": {
      "text/plain": [
       "<pymongo.results.InsertManyResult at 0x20285e0d908>"
      ]
     },
     "execution_count": 11,
     "metadata": {},
     "output_type": "execute_result"
    }
   ],
   "source": [
    "student1 = {\n",
    "    'id' : '001',\n",
    "    \"name\": \"Bob\",\n",
    "    \"gender\": \"male\",\n",
    "    \"birthday\": \"1-4\"\n",
    "}\n",
    "student2 = {\n",
    "    \"id\": \"002\",\n",
    "    \"name\": \"John\",\n",
    "    \"gender\": \"male\",\n",
    "    \"birthday\": \"5-20\"\n",
    "}\n",
    "\n",
    "students.insert_many([student1,student2])"
   ]
  },
  {
   "cell_type": "markdown",
   "metadata": {
    "heading_collapsed": true
   },
   "source": [
    "## 3.查询"
   ]
  },
  {
   "cell_type": "code",
   "execution_count": 38,
   "metadata": {
    "hidden": true
   },
   "outputs": [
    {
     "data": {
      "text/plain": [
       "{'_id': ObjectId('5b1f564867524234fcfe8f26'),\n",
       " 'age': 23,\n",
       " 'birthday': '5-20',\n",
       " 'gender': 'male',\n",
       " 'id': '002',\n",
       " 'name': 'Peter'}"
      ]
     },
     "execution_count": 38,
     "metadata": {},
     "output_type": "execute_result"
    }
   ],
   "source": [
    "# 查找1条数据\n",
    "students.find_one({'name':'Bob'})"
   ]
  },
  {
   "cell_type": "code",
   "execution_count": 46,
   "metadata": {
    "hidden": true
   },
   "outputs": [
    {
     "data": {
      "text/plain": [
       "[{'_id': ObjectId('5b1f64196752422584c6cc54'),\n",
       "  'birthday': '5-20',\n",
       "  'gender': 'male',\n",
       "  'id': '002',\n",
       "  'name': 'John'},\n",
       " {'_id': ObjectId('5b1f65296752422584c6cc56'),\n",
       "  'birthday': '5-20',\n",
       "  'gender': 'male',\n",
       "  'id': '002',\n",
       "  'name': 'John'},\n",
       " {'_id': ObjectId('5b1f67d36752422584c6cc59'),\n",
       "  'birthday': '5-20',\n",
       "  'gender': 'male',\n",
       "  'id': '002',\n",
       "  'name': 'John'}]"
      ]
     },
     "execution_count": 46,
     "metadata": {},
     "output_type": "execute_result"
    }
   ],
   "source": [
    "# 查找多条数据\n",
    "[student for student in students.find({'name':'John'})]"
   ]
  },
  {
   "cell_type": "markdown",
   "metadata": {
    "heading_collapsed": true
   },
   "source": [
    "## 4.计数"
   ]
  },
  {
   "cell_type": "code",
   "execution_count": null,
   "metadata": {
    "hidden": true
   },
   "outputs": [],
   "source": [
    "students.find({'gender':'male'}).count()"
   ]
  },
  {
   "cell_type": "markdown",
   "metadata": {
    "heading_collapsed": true
   },
   "source": [
    "## 5.排序"
   ]
  },
  {
   "cell_type": "code",
   "execution_count": 27,
   "metadata": {
    "hidden": true
   },
   "outputs": [
    {
     "data": {
      "text/plain": [
       "['Bob',\n",
       " 'John',\n",
       " 'John',\n",
       " 'John',\n",
       " 'John',\n",
       " 'John',\n",
       " 'John',\n",
       " 'Mike',\n",
       " 'Mike',\n",
       " 'Mike',\n",
       " 'Mike',\n",
       " 'Tom']"
      ]
     },
     "execution_count": 27,
     "metadata": {},
     "output_type": "execute_result"
    }
   ],
   "source": [
    "# 也可在sort传入排序标志。升序：pymongo.ASCENDING, 降序：pymongo.DESCENDING\n",
    "[student['name'] for student in students.find().sort('name')]"
   ]
  },
  {
   "cell_type": "markdown",
   "metadata": {
    "heading_collapsed": true
   },
   "source": [
    "## 6.偏移"
   ]
  },
  {
   "cell_type": "code",
   "execution_count": 20,
   "metadata": {
    "hidden": true
   },
   "outputs": [
    {
     "data": {
      "text/plain": [
       "['Bob', 'Bob', 'Bob', 'Bob', 'John']"
      ]
     },
     "execution_count": 20,
     "metadata": {},
     "output_type": "execute_result"
    }
   ],
   "source": [
    "# skip()方法指定偏移几个位置，limit()指定要取的数量\n",
    "[student['name'] for student in students.find().sort('name').skip(2).limit(5)]"
   ]
  },
  {
   "cell_type": "markdown",
   "metadata": {
    "heading_collapsed": true
   },
   "source": [
    "## 7.更新"
   ]
  },
  {
   "cell_type": "code",
   "execution_count": 28,
   "metadata": {
    "hidden": true
   },
   "outputs": [
    {
     "name": "stdout",
     "output_type": "stream",
     "text": [
      "<pymongo.results.UpdateResult object at 0x0000020285E1F248>\n",
      "1 0\n"
     ]
    }
   ],
   "source": [
    "# 更新一条数据\n",
    "# 推荐使用update_one()而不是update()\n",
    "# update_one()第二个参数不能直接传入修改后的字典，而是需要用{'$set':student}这种形式\n",
    "condition = {'name':'Bob'}\n",
    "student = students.find_one(condition)\n",
    "student['name'] = 'Bob'\n",
    "result = students.update_one(condition, {'$set':student})\n",
    "print(result)\n",
    "print(result.matched_count, result.modified_count)"
   ]
  },
  {
   "cell_type": "code",
   "execution_count": 43,
   "metadata": {
    "hidden": true
   },
   "outputs": [
    {
     "name": "stdout",
     "output_type": "stream",
     "text": [
      "<pymongo.results.UpdateResult object at 0x0000020285E7CD88>\n",
      "1 1\n"
     ]
    }
   ],
   "source": [
    "# 更新多条数据\n",
    "# 年龄小于等于22岁的人年龄增长1岁\n",
    "condition = {'age':{'$lte':22}}\n",
    "result = students.update_many(condition, {'$inc':{'age':1}})\n",
    "print(result)\n",
    "print(result.matched_count, result.modified_count)"
   ]
  },
  {
   "cell_type": "markdown",
   "metadata": {
    "heading_collapsed": true
   },
   "source": [
    "## 8.删除"
   ]
  },
  {
   "cell_type": "code",
   "execution_count": 48,
   "metadata": {
    "hidden": true
   },
   "outputs": [
    {
     "name": "stdout",
     "output_type": "stream",
     "text": [
      "<pymongo.results.DeleteResult object at 0x00000202844DBA08> 2\n"
     ]
    }
   ],
   "source": [
    "# result = students.delete_one({'name':'John'})\n",
    "# print(result,result.deleted_count)\n",
    "\n",
    "result = students.delete_many({'name':'John'})\n",
    "print(result,result.deleted_count)"
   ]
  }
 ],
 "metadata": {
  "kernelspec": {
   "display_name": "Python 3",
   "language": "python",
   "name": "python3"
  },
  "language_info": {
   "codemirror_mode": {
    "name": "ipython",
    "version": 3
   },
   "file_extension": ".py",
   "mimetype": "text/x-python",
   "name": "python",
   "nbconvert_exporter": "python",
   "pygments_lexer": "ipython3",
   "version": "3.6.4"
  }
 },
 "nbformat": 4,
 "nbformat_minor": 2
}
