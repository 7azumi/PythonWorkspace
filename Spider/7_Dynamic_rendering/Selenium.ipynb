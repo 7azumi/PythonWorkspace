{
 "cells": [
  {
   "cell_type": "markdown",
   "metadata": {},
   "source": [
    "# Selenium的使用"
   ]
  },
  {
   "cell_type": "markdown",
   "metadata": {
    "heading_collapsed": true
   },
   "source": [
    "## Example1"
   ]
  },
  {
   "cell_type": "code",
   "execution_count": 8,
   "metadata": {
    "hidden": true
   },
   "outputs": [],
   "source": [
    "from selenium import webdriver\n",
    "from selenium.webdriver.common.by import By\n",
    "from selenium.webdriver.common.keys import Keys\n",
    "from selenium.webdriver.support import expected_conditions as EC\n",
    "from selenium.webdriver.support.wait import WebDriverWait\n",
    "from selenium.webdriver.chrome.options import Options"
   ]
  },
  {
   "cell_type": "code",
   "execution_count": 3,
   "metadata": {
    "hidden": true
   },
   "outputs": [
    {
     "name": "stdout",
     "output_type": "stream",
     "text": [
      "https://www.baidu.com/s?ie=utf-8&f=8&rsv_bp=0&rsv_idx=1&tn=baidu&wd=Python&rsv_pq=f092ef5600043846&rsv_t=8d22C%2BnfkoKyA2INVTi7S7sfUtiMhNlopEeMsyO%2B7eLwL1EPx74aJ82fzRU&rqlang=cn&rsv_enter=1&rsv_sug3=6&rsv_sug2=0&inputT=155&rsv_sug4=155\n",
      "[{'domain': '.baidu.com', 'httpOnly': False, 'name': 'H_PS_PSSID', 'path': '/', 'secure': False, 'value': '1440_26458_21097_20929'}, {'domain': '.baidu.com', 'expiry': 3676810905.282877, 'httpOnly': False, 'name': 'BAIDUID', 'path': '/', 'secure': False, 'value': '88B048D9BE78899E6D93AA59BF0FB7FA:FG=1'}, {'domain': '.baidu.com', 'expiry': 3676810905.282939, 'httpOnly': False, 'name': 'BIDUPSID', 'path': '/', 'secure': False, 'value': '88B048D9BE78899E6D93AA59BF0FB7FA'}, {'domain': '.baidu.com', 'expiry': 3676810905.282969, 'httpOnly': False, 'name': 'PSTM', 'path': '/', 'secure': False, 'value': '1529327259'}, {'domain': 'www.baidu.com', 'httpOnly': False, 'name': 'BD_HOME', 'path': '/', 'secure': False, 'value': '0'}, {'domain': 'www.baidu.com', 'expiry': 1530191259, 'httpOnly': False, 'name': 'BD_UPN', 'path': '/', 'secure': False, 'value': '12314753'}, {'domain': 'www.baidu.com', 'httpOnly': False, 'name': 'BD_CK_SAM', 'path': '/', 'secure': False, 'value': '1'}, {'domain': '.baidu.com', 'httpOnly': False, 'name': 'PSINO', 'path': '/', 'secure': False, 'value': '7'}, {'domain': 'www.baidu.com', 'expiry': 1529329853, 'httpOnly': False, 'name': 'H_PS_645EC', 'path': '/', 'secure': False, 'value': '5b9fI9XrqLaz7EalVTPeKYPp%2BjcT2AFGhPf8Xl5GGu5GlgamPBHHbiVax%2Fg'}]\n"
     ]
    }
   ],
   "source": [
    "browser = webdriver.Chrome()\n",
    "try:\n",
    "    browser.get('https://www.baidu.com')\n",
    "    input = browser.find_element_by_id('kw')\n",
    "    input.send_keys('Python')\n",
    "    input.send_keys(Keys.ENTER)\n",
    "    wait = WebDriverWait(browser, 10)\n",
    "    wait.until(EC.presence_of_element_located((By.ID, 'content_left')))\n",
    "    print(browser.current_url)\n",
    "    print(browser.get_cookies())\n",
    "    # print(browser.page_source)\n",
    "finally:\n",
    "    browser.close()"
   ]
  },
  {
   "cell_type": "markdown",
   "metadata": {
    "heading_collapsed": true
   },
   "source": [
    "## Example2(查找多个节点)"
   ]
  },
  {
   "cell_type": "code",
   "execution_count": 5,
   "metadata": {
    "hidden": true
   },
   "outputs": [],
   "source": [
    "from selenium import webdriver\n",
    "from selenium.webdriver.common.by import By\n",
    "import time\n",
    "\n",
    "\n",
    "broswer = webdriver.Chrome()\n",
    "broswer.get('https://www.taobao.com/')\n",
    "\n",
    "# lis = broswer.find_elements_by_css_selector('.service-bd li')\n",
    "lis = broswer.find_elements(By.CSS_SELECTOR, '.service-bd li')\n",
    "\n",
    "print(lis)\n",
    "broswer.close()"
   ]
  },
  {
   "cell_type": "markdown",
   "metadata": {
    "heading_collapsed": true
   },
   "source": [
    "## Example3(节点交互)"
   ]
  },
  {
   "cell_type": "code",
   "execution_count": null,
   "metadata": {
    "hidden": true
   },
   "outputs": [],
   "source": [
    "from selenium import webdriver\n",
    "from selenium.webdriver.common.by import By\n",
    "import time\n",
    "\n",
    "\n",
    "broswer = webdriver.Chrome()\n",
    "broswer.get('https://www.taobao.com/')\n",
    "\n",
    "search = broswer.find_element(By.ID, 'q')\n",
    "search.send_keys('iphone')\n",
    "time.sleep(2)\n",
    "search.clear()\n",
    "search.send_keys('ipad')\n",
    "button = broswer.find_element(By.CLASS_NAME, 'btn-search')\n",
    "button.click()"
   ]
  },
  {
   "cell_type": "markdown",
   "metadata": {
    "heading_collapsed": true
   },
   "source": [
    "## Example4(执行js)"
   ]
  },
  {
   "cell_type": "code",
   "execution_count": 6,
   "metadata": {
    "hidden": true
   },
   "outputs": [],
   "source": [
    "from selenium import webdriver\n",
    "\n",
    "url = 'https://www.taobao.com/'\n",
    "broswer = webdriver.Chrome()\n",
    "broswer.get(url)\n",
    "\n",
    "broswer.execute_script('window.scrollTo(0, document.body.scrollHeight)')\n",
    "broswer.execute_script('alert(\"To Buttom\")')\n",
    "\n",
    "broswer.close()"
   ]
  },
  {
   "cell_type": "markdown",
   "metadata": {},
   "source": [
    "## 获取节点信息"
   ]
  },
  {
   "cell_type": "code",
   "execution_count": 12,
   "metadata": {},
   "outputs": [
    {
     "name": "stdout",
     "output_type": "stream",
     "text": [
      "s_ipt\n",
      "\n"
     ]
    }
   ],
   "source": [
    "from selenium import webdriver\n",
    "from selenium.webdriver.common.by import By\n",
    "\n",
    "# Chrome headless模式\n",
    "chrome_options = Options()\n",
    "chrome_options.add_argument('--headless')\n",
    "chrome_options.add_argument('--disable-gpu')\n",
    "br = webdriver.Chrome(chrome_options=chrome_options)\n",
    "\n",
    "br.get('https://www.baidu.com/')\n",
    "obj = br.find_element(By.ID, 'kw')\n",
    "\n",
    "\n",
    "# 获取属性，参数为想要获取的属性名\n",
    "attr = obj.get_attribute('class')\n",
    "print(attr)\n",
    "\n",
    "# 获取文本值\n",
    "txt = obj.text\n",
    "print(txt)\n",
    "\n",
    "br.close()\n"
   ]
  },
  {
   "cell_type": "code",
   "execution_count": null,
   "metadata": {},
   "outputs": [],
   "source": []
  }
 ],
 "metadata": {
  "kernelspec": {
   "display_name": "Python 3",
   "language": "python",
   "name": "python3"
  },
  "language_info": {
   "codemirror_mode": {
    "name": "ipython",
    "version": 3
   },
   "file_extension": ".py",
   "mimetype": "text/x-python",
   "name": "python",
   "nbconvert_exporter": "python",
   "pygments_lexer": "ipython3",
   "version": "3.6.4"
  }
 },
 "nbformat": 4,
 "nbformat_minor": 2
}
